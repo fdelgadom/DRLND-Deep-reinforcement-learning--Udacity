{
 "cells": [
  {
   "cell_type": "markdown",
   "metadata": {},
   "source": [
    "# Collaboration and Competition\n",
    "\n",
    "---\n",
    "\n",
    "You are welcome to use this coding environment to train your agent for the project.  Follow the instructions below to get started!\n",
    "\n",
    "### 1. Start the Environment\n",
    "\n",
    "Run the next code cell to install a few packages.  This line will take a few minutes to run!"
   ]
  },
  {
   "cell_type": "code",
   "execution_count": 1,
   "metadata": {},
   "outputs": [],
   "source": [
    "!pip -q install ./python"
   ]
  },
  {
   "cell_type": "markdown",
   "metadata": {},
   "source": [
    "The environment is already saved in the Workspace and can be accessed at the file path provided below. "
   ]
  },
  {
   "cell_type": "code",
   "execution_count": 2,
   "metadata": {},
   "outputs": [
    {
     "name": "stderr",
     "output_type": "stream",
     "text": [
      "INFO:unityagents:\n",
      "'Academy' started successfully!\n",
      "Unity Academy name: Academy\n",
      "        Number of Brains: 1\n",
      "        Number of External Brains : 1\n",
      "        Lesson number : 0\n",
      "        Reset Parameters :\n",
      "\t\t\n",
      "Unity brain name: TennisBrain\n",
      "        Number of Visual Observations (per agent): 0\n",
      "        Vector Observation space type: continuous\n",
      "        Vector Observation space size (per agent): 8\n",
      "        Number of stacked Vector Observation: 3\n",
      "        Vector Action space type: continuous\n",
      "        Vector Action space size (per agent): 2\n",
      "        Vector Action descriptions: , \n"
     ]
    }
   ],
   "source": [
    "from unityagents import UnityEnvironment\n",
    "import numpy as np\n",
    "\n",
    "env = UnityEnvironment(file_name=\"/data/Tennis_Linux_NoVis/Tennis\")"
   ]
  },
  {
   "cell_type": "markdown",
   "metadata": {},
   "source": [
    "Environments contain **_brains_** which are responsible for deciding the actions of their associated agents. Here we check for the first brain available, and set it as the default brain we will be controlling from Python."
   ]
  },
  {
   "cell_type": "code",
   "execution_count": 3,
   "metadata": {},
   "outputs": [],
   "source": [
    "# get the default brain\n",
    "brain_name = env.brain_names[0]\n",
    "brain = env.brains[brain_name]"
   ]
  },
  {
   "cell_type": "markdown",
   "metadata": {},
   "source": [
    "### 2. Examine the State and Action Spaces\n",
    "\n",
    "Run the code cell below to print some information about the environment."
   ]
  },
  {
   "cell_type": "code",
   "execution_count": 4,
   "metadata": {},
   "outputs": [
    {
     "name": "stdout",
     "output_type": "stream",
     "text": [
      "Number of agents: 2\n",
      "Size of each action: 2\n",
      "There are 2 agents. Each observes a state with length: 24\n",
      "The state for the first agent looks like: [ 0.          0.          0.          0.          0.          0.          0.\n",
      "  0.          0.          0.          0.          0.          0.          0.\n",
      "  0.          0.         -6.65278625 -1.5        -0.          0.\n",
      "  6.83172083  6.         -0.          0.        ]\n"
     ]
    }
   ],
   "source": [
    "# reset the environment\n",
    "env_info = env.reset(train_mode=True)[brain_name]\n",
    "\n",
    "# number of agents \n",
    "num_agents = len(env_info.agents)\n",
    "print('Number of agents:', num_agents)\n",
    "\n",
    "# size of each action\n",
    "action_size = brain.vector_action_space_size\n",
    "print('Size of each action:', action_size)\n",
    "\n",
    "# examine the state space \n",
    "states = env_info.vector_observations\n",
    "state_size = states.shape[1]\n",
    "print('There are {} agents. Each observes a state with length: {}'.format(states.shape[0], state_size))\n",
    "print('The state for the first agent looks like:', states[0])"
   ]
  },
  {
   "cell_type": "markdown",
   "metadata": {},
   "source": [
    "### 3. Take Random Actions in the Environment\n",
    "\n",
    "In the next code cell, you will learn how to use the Python API to control the agent and receive feedback from the environment.\n",
    "\n",
    "Note that **in this coding environment, you will not be able to watch the agents while they are training**, and you should set `train_mode=True` to restart the environment."
   ]
  },
  {
   "cell_type": "code",
   "execution_count": 5,
   "metadata": {},
   "outputs": [
    {
     "name": "stdout",
     "output_type": "stream",
     "text": [
      "Total score (averaged over agents) this episode: -0.004999999888241291\n",
      "Total score (averaged over agents) this episode: -0.004999999888241291\n",
      "Total score (averaged over agents) this episode: 0.09500000160187483\n",
      "Total score (averaged over agents) this episode: -0.004999999888241291\n",
      "Total score (averaged over agents) this episode: -0.004999999888241291\n"
     ]
    }
   ],
   "source": [
    "for i in range(5):                                         # play game for 5 episodes\n",
    "    env_info = env.reset(train_mode=False)[brain_name]     # reset the environment    \n",
    "    states = env_info.vector_observations                  # get the current state (for each agent)\n",
    "    scores = np.zeros(num_agents)                          # initialize the score (for each agent)\n",
    "    while True:\n",
    "        actions = np.random.randn(num_agents, action_size) # select an action (for each agent)\n",
    "        actions = np.clip(actions, -1, 1)                  # all actions between -1 and 1\n",
    "        env_info = env.step(actions)[brain_name]           # send all actions to tne environment\n",
    "        next_states = env_info.vector_observations         # get next state (for each agent)\n",
    "        rewards = env_info.rewards                         # get reward (for each agent)\n",
    "        dones = env_info.local_done                        # see if episode finished\n",
    "        scores += env_info.rewards                         # update the score (for each agent)\n",
    "        states = next_states                               # roll over states to next time step\n",
    "        if np.any(dones):                                  # exit loop if episode finished\n",
    "            break\n",
    "    print('Total score (averaged over agents) this episode: {}'.format(np.mean(scores)))"
   ]
  },
  {
   "cell_type": "markdown",
   "metadata": {},
   "source": [
    "When finished, you can close the environment."
   ]
  },
  {
   "cell_type": "code",
   "execution_count": 6,
   "metadata": {},
   "outputs": [],
   "source": [
    "#env.close()"
   ]
  },
  {
   "cell_type": "markdown",
   "metadata": {},
   "source": [
    "### 4. It's Your Turn!\n",
    "\n",
    "Now it's your turn to train your own agent to solve the environment!  A few **important notes**:\n",
    "- When training the environment, set `train_mode=True`, so that the line for resetting the environment looks like the following:\n",
    "```python\n",
    "env_info = env.reset(train_mode=True)[brain_name]\n",
    "```\n",
    "- To structure your work, you're welcome to work directly in this Jupyter notebook, or you might like to start over with a new file!  You can see the list of files in the workspace by clicking on **_Jupyter_** in the top left corner of the notebook.\n",
    "- In this coding environment, you will not be able to watch the agents while they are training.  However, **_after training the agents_**, you can download the saved model weights to watch the agents on your own machine! "
   ]
  },
  {
   "cell_type": "code",
   "execution_count": 7,
   "metadata": {},
   "outputs": [],
   "source": [
    "import datetime\n",
    "import torch\n",
    "from collections import deque\n",
    "import matplotlib.pyplot as plt\n",
    "%matplotlib inline\n",
    "\n",
    "from ddpg_agent import Agent"
   ]
  },
  {
   "cell_type": "code",
   "execution_count": 8,
   "metadata": {},
   "outputs": [],
   "source": [
    "agent = Agent(state_size = state_size, action_size = action_size, random_seed = 0, num_agents=2)"
   ]
  },
  {
   "cell_type": "code",
   "execution_count": 9,
   "metadata": {},
   "outputs": [],
   "source": [
    "def ddpg(n_episodes=5000, max_t=1000):\n",
    "    scores_window = deque(maxlen=100)\n",
    "    scores_all = []\n",
    "    rolling_average = []\n",
    "    for i_episode in range(1, n_episodes+1):\n",
    "        env_info = env.reset(train_mode=True)[brain_name]\n",
    "        state = env_info.vector_observations\n",
    "        agent.reset()\n",
    "        score_average = 0\n",
    "        scores = np.zeros(num_agents)\n",
    "        for t in range(max_t):\n",
    "            action = agent.act(state)\n",
    "            env_info = env.step(action)[brain_name]\n",
    "            next_state = env_info.vector_observations\n",
    "            rewards = env_info.rewards\n",
    "            dones = env_info.local_done\n",
    "            agent.step(state, action, rewards, next_state, dones)\n",
    "            state = next_state\n",
    "            scores += rewards\n",
    "            if np.any(dones):\n",
    "                \n",
    "                break \n",
    "        \n",
    "        \n",
    "        \n",
    "        scores_window.append(np.max(scores))\n",
    "        scores_all.append(np.max(scores))\n",
    "        rolling_average.append(np.mean(scores_window))\n",
    "        score_average=np.mean(scores_window)\n",
    "        \n",
    "       \n",
    "        if i_episode % 10 == 0:\n",
    "            print('Episode {}\\tMax Reward: {:.3f}\\tAverage Reward: {:.3f}'.format(\n",
    "                i_episode, np.max(scores), np.mean(scores_window)))\n",
    "\n",
    "        if np.mean(scores_window)>=0.5:\n",
    "            print('\\nEnvironment solved in {:d} episodes!\\tAverage Score: {:.3f}'.format(\n",
    "                i_episode-100, np.mean(scores_window)))\n",
    "            torch.save(agent.actor_local.state_dict(), 'checkpoint_actor.pth')\n",
    "            torch.save(agent.critic_local.state_dict(), 'checkpoint_critic.pth') \n",
    "            break\n",
    "    return rolling_average"
   ]
  },
  {
   "cell_type": "code",
   "execution_count": 10,
   "metadata": {},
   "outputs": [
    {
     "name": "stdout",
     "output_type": "stream",
     "text": [
      "Episode 10\tMax Reward: 0.000\tAverage Reward: 0.000\n",
      "Episode 20\tMax Reward: 0.000\tAverage Reward: 0.000\n",
      "Episode 30\tMax Reward: 0.000\tAverage Reward: 0.000\n",
      "Episode 40\tMax Reward: 0.000\tAverage Reward: 0.003\n",
      "Episode 50\tMax Reward: 0.000\tAverage Reward: 0.002\n",
      "Episode 60\tMax Reward: 0.000\tAverage Reward: 0.002\n",
      "Episode 70\tMax Reward: 0.090\tAverage Reward: 0.007\n",
      "Episode 80\tMax Reward: 0.000\tAverage Reward: 0.009\n",
      "Episode 90\tMax Reward: 0.000\tAverage Reward: 0.012\n",
      "Episode 100\tMax Reward: 0.100\tAverage Reward: 0.017\n",
      "Episode 110\tMax Reward: 0.100\tAverage Reward: 0.028\n",
      "Episode 120\tMax Reward: 0.100\tAverage Reward: 0.039\n",
      "Episode 130\tMax Reward: 0.100\tAverage Reward: 0.052\n",
      "Episode 140\tMax Reward: 0.200\tAverage Reward: 0.070\n",
      "Episode 150\tMax Reward: 0.100\tAverage Reward: 0.096\n",
      "Episode 160\tMax Reward: 0.000\tAverage Reward: 0.117\n",
      "Episode 170\tMax Reward: 0.100\tAverage Reward: 0.132\n",
      "Episode 180\tMax Reward: 0.000\tAverage Reward: 0.142\n",
      "Episode 190\tMax Reward: 0.300\tAverage Reward: 0.149\n",
      "Episode 200\tMax Reward: 0.100\tAverage Reward: 0.150\n",
      "Episode 210\tMax Reward: 0.200\tAverage Reward: 0.150\n",
      "Episode 220\tMax Reward: 0.100\tAverage Reward: 0.156\n",
      "Episode 230\tMax Reward: 0.000\tAverage Reward: 0.151\n",
      "Episode 240\tMax Reward: 0.100\tAverage Reward: 0.148\n",
      "Episode 250\tMax Reward: 0.100\tAverage Reward: 0.131\n",
      "Episode 260\tMax Reward: 0.100\tAverage Reward: 0.117\n",
      "Episode 270\tMax Reward: 0.100\tAverage Reward: 0.108\n",
      "Episode 280\tMax Reward: 0.200\tAverage Reward: 0.106\n",
      "Episode 290\tMax Reward: 0.300\tAverage Reward: 0.104\n",
      "Episode 300\tMax Reward: 0.100\tAverage Reward: 0.107\n",
      "Episode 310\tMax Reward: 0.000\tAverage Reward: 0.117\n",
      "Episode 320\tMax Reward: 0.100\tAverage Reward: 0.120\n",
      "Episode 330\tMax Reward: 0.400\tAverage Reward: 0.126\n",
      "Episode 340\tMax Reward: 0.100\tAverage Reward: 0.122\n",
      "Episode 350\tMax Reward: 0.000\tAverage Reward: 0.125\n",
      "Episode 360\tMax Reward: 0.000\tAverage Reward: 0.126\n",
      "Episode 370\tMax Reward: 0.190\tAverage Reward: 0.147\n",
      "Episode 380\tMax Reward: 0.200\tAverage Reward: 0.174\n",
      "Episode 390\tMax Reward: 0.400\tAverage Reward: 0.182\n",
      "Episode 400\tMax Reward: 0.500\tAverage Reward: 0.198\n",
      "Episode 410\tMax Reward: 0.100\tAverage Reward: 0.194\n",
      "Episode 420\tMax Reward: 0.700\tAverage Reward: 0.198\n",
      "Episode 430\tMax Reward: 0.400\tAverage Reward: 0.213\n",
      "Episode 440\tMax Reward: 0.300\tAverage Reward: 0.225\n",
      "Episode 450\tMax Reward: 1.100\tAverage Reward: 0.245\n",
      "Episode 460\tMax Reward: 0.300\tAverage Reward: 0.257\n",
      "Episode 470\tMax Reward: 0.000\tAverage Reward: 0.261\n",
      "Episode 480\tMax Reward: 0.500\tAverage Reward: 0.252\n",
      "Episode 490\tMax Reward: 0.100\tAverage Reward: 0.261\n",
      "Episode 500\tMax Reward: 0.300\tAverage Reward: 0.283\n",
      "Episode 510\tMax Reward: 0.200\tAverage Reward: 0.286\n",
      "Episode 520\tMax Reward: 0.100\tAverage Reward: 0.277\n",
      "Episode 530\tMax Reward: 0.600\tAverage Reward: 0.273\n",
      "Episode 540\tMax Reward: 0.000\tAverage Reward: 0.274\n",
      "Episode 550\tMax Reward: 1.500\tAverage Reward: 0.291\n",
      "Episode 560\tMax Reward: 0.300\tAverage Reward: 0.315\n",
      "Episode 570\tMax Reward: 0.100\tAverage Reward: 0.307\n",
      "Episode 580\tMax Reward: 0.000\tAverage Reward: 0.306\n",
      "Episode 590\tMax Reward: 0.400\tAverage Reward: 0.310\n",
      "Episode 600\tMax Reward: 0.000\tAverage Reward: 0.278\n",
      "Episode 610\tMax Reward: 0.300\tAverage Reward: 0.316\n",
      "Episode 620\tMax Reward: 0.200\tAverage Reward: 0.349\n",
      "Episode 630\tMax Reward: 0.200\tAverage Reward: 0.366\n",
      "Episode 640\tMax Reward: 0.000\tAverage Reward: 0.372\n",
      "Episode 650\tMax Reward: 0.000\tAverage Reward: 0.395\n",
      "Episode 660\tMax Reward: 0.000\tAverage Reward: 0.430\n",
      "Episode 670\tMax Reward: 0.300\tAverage Reward: 0.444\n",
      "Episode 680\tMax Reward: 0.000\tAverage Reward: 0.470\n",
      "Episode 690\tMax Reward: 0.000\tAverage Reward: 0.464\n",
      "Episode 700\tMax Reward: 0.100\tAverage Reward: 0.475\n",
      "Episode 710\tMax Reward: 0.000\tAverage Reward: 0.449\n",
      "Episode 720\tMax Reward: 0.000\tAverage Reward: 0.440\n",
      "Episode 730\tMax Reward: 0.200\tAverage Reward: 0.435\n",
      "Episode 740\tMax Reward: 0.400\tAverage Reward: 0.450\n",
      "Episode 750\tMax Reward: 0.200\tAverage Reward: 0.447\n",
      "Episode 760\tMax Reward: 2.600\tAverage Reward: 0.448\n",
      "Episode 770\tMax Reward: 0.000\tAverage Reward: 0.459\n",
      "Episode 780\tMax Reward: 0.500\tAverage Reward: 0.439\n",
      "Episode 790\tMax Reward: 0.300\tAverage Reward: 0.468\n",
      "\n",
      "Environment solved in 695 episodes!\tAverage Score: 0.510\n"
     ]
    }
   ],
   "source": [
    "scores = ddpg()"
   ]
  },
  {
   "cell_type": "code",
   "execution_count": 11,
   "metadata": {},
   "outputs": [
    {
     "data": {
      "image/png": "[encoded data removed]",
      "text/plain": [
       "<matplotlib.figure.Figure at 0x7f3dacbaa5f8>"
      ]
     },
     "metadata": {
      "needs_background": "light"
     },
     "output_type": "display_data"
    }
   ],
   "source": [
    "fig = plt.figure()\n",
    "ax = fig.add_subplot(111)\n",
    "plt.plot(np.arange(1, len(scores)+1), scores)\n",
    "plt.ylabel('Score')\n",
    "plt.xlabel('Episode #')\n",
    "plt.show()"
   ]
  },
  {
   "cell_type": "code",
   "execution_count": null,
   "metadata": {},
   "outputs": [],
   "source": []
  }
 ],
 "metadata": {
  "kernelspec": {
   "display_name": "Python 3",
   "language": "python",
   "name": "python3"
  },
  "language_info": {
   "codemirror_mode": {
    "name": "ipython",
    "version": 3
   },
   "file_extension": ".py",
   "mimetype": "text/x-python",
   "name": "python",
   "nbconvert_exporter": "python",
   "pygments_lexer": "ipython3",
   "version": "3.6.3"
  }
 },
 "nbformat": 4,
 "nbformat_minor": 2
}
